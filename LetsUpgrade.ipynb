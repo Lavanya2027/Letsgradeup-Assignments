{
  "nbformat": 4,
  "nbformat_minor": 0,
  "metadata": {
    "colab": {
      "name": "LetsUpgrade.ipynb",
      "provenance": [],
      "authorship_tag": "ABX9TyMh+1LY/qSwdbxJxgj4m41I",
      "include_colab_link": true
    },
    "kernelspec": {
      "name": "python3",
      "display_name": "Python 3"
    }
  },
  "cells": [
    {
      "cell_type": "markdown",
      "metadata": {
        "id": "view-in-github",
        "colab_type": "text"
      },
      "source": [
        "<a href=\"https://colab.research.google.com/github/Lavanya2027/Letsgradeup-Assignments/blob/main/LetsUpgrade.ipynb\" target=\"_parent\"><img src=\"https://colab.research.google.com/assets/colab-badge.svg\" alt=\"Open In Colab\"/></a>"
      ]
    },
    {
      "cell_type": "code",
      "metadata": {
        "id": "RzwY6zMBa1KY",
        "outputId": "5422d1c1-9100-4daf-da73-e0ec22748cf0",
        "colab": {
          "base_uri": "https://localhost:8080/"
        }
      },
      "source": [
        "#Question1\n",
        "def pickEven():\n",
        "    my_list=[]\n",
        "    for i in range(10):\n",
        "        num=int(input(f\"Enter number {i+1}: \"))\n",
        "        if num %2 ==0:\n",
        "            my_list.append(num)\n",
        "    print(my_list)\n",
        "pickEven()"
      ],
      "execution_count": 2,
      "outputs": [
        {
          "output_type": "stream",
          "text": [
            "Enter number 1: 10\n",
            "Enter number 2: 15\n",
            "Enter number 3: 18\n",
            "Enter number 4: 22\n",
            "Enter number 5: 27\n",
            "Enter number 6: 31\n",
            "Enter number 7: 44\n",
            "Enter number 8: 59\n",
            "Enter number 9: 60\n",
            "Enter number 10: 67\n",
            "[10, 18, 22, 44, 60]\n"
          ],
          "name": "stdout"
        }
      ]
    },
    {
      "cell_type": "code",
      "metadata": {
        "id": "5HknuQIVb-ET",
        "outputId": "4c72354e-5e4e-47c6-e610-89abeb572a33",
        "colab": {
          "base_uri": "https://localhost:8080/"
        }
      },
      "source": [
        "#Question2\n",
        "h_letters = [ letter for letter in 'human' ]\n",
        "print( h_letters)"
      ],
      "execution_count": 3,
      "outputs": [
        {
          "output_type": "stream",
          "text": [
            "['h', 'u', 'm', 'a', 'n']\n"
          ],
          "name": "stdout"
        }
      ]
    },
    {
      "cell_type": "code",
      "metadata": {
        "id": "tTNaEn83cV09",
        "outputId": "492cfdbe-fc4b-48f1-e3ff-358cbc1a60f4",
        "colab": {
          "base_uri": "https://localhost:8080/"
        }
      },
      "source": [
        "list1 = [ x for x in range(20) if x % 2 == 0]\n",
        "print(list1)"
      ],
      "execution_count": 5,
      "outputs": [
        {
          "output_type": "stream",
          "text": [
            "[0, 2, 4, 6, 8, 10, 12, 14, 16, 18]\n"
          ],
          "name": "stdout"
        }
      ]
    },
    {
      "cell_type": "code",
      "metadata": {
        "id": "dROl6EgfcspO",
        "outputId": "4e2ac0e0-262b-40e0-b4c5-73261360e0c8",
        "colab": {
          "base_uri": "https://localhost:8080/"
        }
      },
      "source": [
        "obj = [\"Even\" if i%2==0 else \"Odd\" for i in range(10)]\n",
        "print(obj)"
      ],
      "execution_count": 6,
      "outputs": [
        {
          "output_type": "stream",
          "text": [
            "['Even', 'Odd', 'Even', 'Odd', 'Even', 'Odd', 'Even', 'Odd', 'Even', 'Odd']\n"
          ],
          "name": "stdout"
        }
      ]
    },
    {
      "cell_type": "code",
      "metadata": {
        "id": "mWxAqgDhdj4_",
        "outputId": "36fc2f47-75d6-4365-acf5-b2fd753085a3",
        "colab": {
          "base_uri": "https://localhost:8080/"
        }
      },
      "source": [
        "#Question3\n",
        "def generateDict():\n",
        "    num= int(input())\n",
        "    my_dict={i: i*i for i in range(1, num+1)}\n",
        "    print(my_dict)\n",
        "    \n",
        "generateDict()\n",
        "generateDict()"
      ],
      "execution_count": 9,
      "outputs": [
        {
          "output_type": "stream",
          "text": [
            "4\n",
            "{1: 1, 2: 4, 3: 9, 4: 16}\n",
            "8\n",
            "{1: 1, 2: 4, 3: 9, 4: 16, 5: 25, 6: 36, 7: 49, 8: 64}\n"
          ],
          "name": "stdout"
        }
      ]
    },
    {
      "cell_type": "code",
      "metadata": {
        "id": "TB1yCXk2duFY",
        "outputId": "a04c4d98-b368-4bef-d29d-4506c134a15f",
        "colab": {
          "base_uri": "https://localhost:8080/"
        }
      },
      "source": [
        "#Question4\n",
        "import math \n",
        "def move(currentPosition, info):\n",
        "    direction=info.split()[0]\n",
        "    steps=int(info.split()[1])\n",
        "    if direction=='UP':\n",
        "        currentPosition[1]+=steps\n",
        "    elif direction=='DOWN':\n",
        "        currentPosition[1]-=steps\n",
        "    elif direction=='RIGHT':\n",
        "        currentPosition[0]+=steps\n",
        "    elif direction=='LEFT':\n",
        "        currentPosition[0]-=steps\n",
        "    return currentPosition\n",
        "    \n",
        "    \n",
        "    \n",
        "def moveRobot():\n",
        "    numOfStepsToTake=int(input(\"Enter the number of steps to take: \"))\n",
        "    currentStep=0\n",
        "    start_point=[0,0]\n",
        "    while currentStep<numOfStepsToTake:\n",
        "        currMove=input()\n",
        "        start_point=move(start_point,currMove)\n",
        "        currentStep+=1\n",
        "    distance=round(math.sqrt(start_point[0]**2+start_point[1]**2))\n",
        "    print(distance)\n",
        "        \n",
        "moveRobot()"
      ],
      "execution_count": 8,
      "outputs": [
        {
          "output_type": "stream",
          "text": [
            "Enter the number of steps to take: 4\n",
            "UP 5\n",
            "DOWN 3\n",
            "LEFT 3\n",
            "RIGHT 2\n",
            "2\n"
          ],
          "name": "stdout"
        }
      ]
    },
    {
      "cell_type": "code",
      "metadata": {
        "id": "xI1f-TXY-tST"
      },
      "source": [
        ""
      ],
      "execution_count": null,
      "outputs": []
    }
  ]
}