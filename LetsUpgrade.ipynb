{
  "nbformat": 4,
  "nbformat_minor": 0,
  "metadata": {
    "colab": {
      "name": "LetsUpgrade.ipynb",
      "provenance": [],
      "authorship_tag": "ABX9TyNkIgVjsztunooFKMe/Iz7r",
      "include_colab_link": true
    },
    "kernelspec": {
      "name": "python3",
      "display_name": "Python 3"
    }
  },
  "cells": [
    {
      "cell_type": "markdown",
      "metadata": {
        "id": "view-in-github",
        "colab_type": "text"
      },
      "source": [
        "<a href=\"https://colab.research.google.com/github/Lavanya2027/Letsgradeup-Assignments/blob/main/LetsUpgrade.ipynb\" target=\"_parent\"><img src=\"https://colab.research.google.com/assets/colab-badge.svg\" alt=\"Open In Colab\"/></a>"
      ]
    },
    {
      "cell_type": "code",
      "metadata": {
        "id": "4nvtziPmfgEd",
        "outputId": "e49f8afa-098d-4380-8a2c-0c69bae9529b",
        "colab": {
          "base_uri": "https://localhost:8080/"
        }
      },
      "source": [
        "#Question1\n",
        "import numpy as np\n",
        "arr=np.array([x for x in range(2,51,3)])\n",
        "print(arr)"
      ],
      "execution_count": 1,
      "outputs": [
        {
          "output_type": "stream",
          "text": [
            "[ 2  5  8 11 14 17 20 23 26 29 32 35 38 41 44 47 50]\n"
          ],
          "name": "stdout"
        }
      ]
    },
    {
      "cell_type": "code",
      "metadata": {
        "id": "BZqShWbUf7h1",
        "outputId": "b8012d52-50ec-4917-947f-2831b7562358",
        "colab": {
          "base_uri": "https://localhost:8080/"
        }
      },
      "source": [
        "#Question2\n",
        "def performCustomTask():\n",
        "    numOfListsToRequest=2\n",
        "    noOfElementsToRequest=5\n",
        "    arrayOfInputs=[]\n",
        "    inputlist=0\n",
        "    while inputlist<numOfListsToRequest:\n",
        "        inputelements=0\n",
        "        arrelements=[]\n",
        "        print(f'Enter {inputlist+1} list of array')\n",
        "        while inputelements<noOfElementsToRequest:            \n",
        "            arrelements.append(int(input()))\n",
        "            inputelements+=1\n",
        "        arrayOfInputs.append(arrelements)\n",
        "        inputlist+=1\n",
        "    arr1=np.array(arrayOfInputs[0])\n",
        "    arr2=np.array(arrayOfInputs[1])\n",
        "    print(f'1st array array: {arr1}')\n",
        "    print(f'2nd Array array: {arr2}')\n",
        "    concatarr=np.concatenate([arr1,arr2])\n",
        "    print(f'Concatenated array: {concatarr}')\n",
        "    sortedarr1=np.sort(arr1)\n",
        "    sortedarr2=np.sort(arr2)\n",
        "    sortconcat=np.sort(concatarr)\n",
        "    print(f'sorted 1st array: {sortedarr1}')\n",
        "    print(f'sorted 2nd array: {sortedarr2}')\n",
        "    print(f'sorted concatenated array: {sortconcat}')\n",
        "performCustomTask()"
      ],
      "execution_count": 4,
      "outputs": [
        {
          "output_type": "stream",
          "text": [
            "Enter 1 list of array\n",
            "34\n",
            "45\n",
            "23\n",
            "12\n",
            "56\n",
            "Enter 2 list of array\n",
            "76\n",
            "88\n",
            "45\n",
            "67\n",
            "43\n",
            "1st array array: [34 45 23 12 56]\n",
            "2nd Array array: [76 88 45 67 43]\n",
            "Concatenated array: [34 45 23 12 56 76 88 45 67 43]\n",
            "sorted 1st array: [12 23 34 45 56]\n",
            "sorted 2nd array: [43 45 67 76 88]\n",
            "sorted concatenated array: [12 23 34 43 45 45 56 67 76 88]\n"
          ],
          "name": "stdout"
        }
      ]
    },
    {
      "cell_type": "code",
      "metadata": {
        "id": "GgPRcSvUgSDr",
        "outputId": "95f8ffa1-b2cd-4119-af66-88387691a4d4",
        "colab": {
          "base_uri": "https://localhost:8080/"
        }
      },
      "source": [
        "#Question3\n",
        "def findDimensionandSize(arr):\n",
        "    print(f'Dimesions of array is {arr.ndim}')\n",
        "    print(f'Size of array is {arr.size}')\n",
        "    print(f'Shape of array is {arr.shape}')\n",
        "arr=np.arange(15).reshape(5,3)\n",
        "findDimensionandSize(arr)"
      ],
      "execution_count": 5,
      "outputs": [
        {
          "output_type": "stream",
          "text": [
            "Dimesions of array is 2\n",
            "Size of array is 15\n",
            "Shape of array is (5, 3)\n"
          ],
          "name": "stdout"
        }
      ]
    },
    {
      "cell_type": "code",
      "metadata": {
        "id": "Gsv4RhP1hFFC",
        "outputId": "7dbedea0-91bb-4d38-e796-bfa5c1b3155a",
        "colab": {
          "base_uri": "https://localhost:8080/"
        }
      },
      "source": [
        "#Question4\n",
        "arr = np.arange(10)\n",
        "print(f'1D array : {arr}')\n",
        "arr2D=arr.reshape(5,2)\n",
        "print(f'2D array using reshape : {arr2D}')\n",
        "\n",
        "arr2D1=np.array(arr)[np.newaxis,:]\n",
        "print(f'2D array using newaxis : {arr2D1}')    \n",
        "arr2D2=np.array(arr)[:,np.newaxis]\n",
        "print(f'2D array using newaxis : {arr2D2}')    \n",
        "\n",
        "arr3D1=np.expand_dims(arr,axis=0)\n",
        "print(f'2D array using expand_dims : {arr3D1}')    \n",
        "arr3D2=np.expand_dims(arr,axis=1)\n",
        "print(f'2D array using expand_dims: {arr3D2}')\n"
      ],
      "execution_count": 6,
      "outputs": [
        {
          "output_type": "stream",
          "text": [
            "1D array : [0 1 2 3 4 5 6 7 8 9]\n",
            "2D array using reshape : [[0 1]\n",
            " [2 3]\n",
            " [4 5]\n",
            " [6 7]\n",
            " [8 9]]\n",
            "2D array using newaxis : [[0 1 2 3 4 5 6 7 8 9]]\n",
            "2D array using newaxis : [[0]\n",
            " [1]\n",
            " [2]\n",
            " [3]\n",
            " [4]\n",
            " [5]\n",
            " [6]\n",
            " [7]\n",
            " [8]\n",
            " [9]]\n",
            "2D array using expand_dims : [[0 1 2 3 4 5 6 7 8 9]]\n",
            "2D array using expand_dims: [[0]\n",
            " [1]\n",
            " [2]\n",
            " [3]\n",
            " [4]\n",
            " [5]\n",
            " [6]\n",
            " [7]\n",
            " [8]\n",
            " [9]]\n"
          ],
          "name": "stdout"
        }
      ]
    }
  ]
}