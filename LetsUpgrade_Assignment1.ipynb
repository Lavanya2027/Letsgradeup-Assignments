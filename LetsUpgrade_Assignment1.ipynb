{
  "nbformat": 4,
  "nbformat_minor": 0,
  "metadata": {
    "colab": {
      "name": "LetsUpgrade Assignment1",
      "provenance": [],
      "authorship_tag": "ABX9TyN8Q1U2N0IqKAOxWBMijuZB",
      "include_colab_link": true
    },
    "kernelspec": {
      "name": "python3",
      "display_name": "Python 3"
    }
  },
  "cells": [
    {
      "cell_type": "markdown",
      "metadata": {
        "id": "view-in-github",
        "colab_type": "text"
      },
      "source": [
        "<a href=\"https://colab.research.google.com/github/Lavanya2027/Letsgradeup-Assignments/blob/main/LetsUpgrade_Assignment1.ipynb\" target=\"_parent\"><img src=\"https://colab.research.google.com/assets/colab-badge.svg\" alt=\"Open In Colab\"/></a>"
      ]
    },
    {
      "cell_type": "code",
      "metadata": {
        "id": "yI25qGcrqdDh"
      },
      "source": [
        "# Question1:\n",
        "\n",
        "B. RAINBOW"
      ],
      "execution_count": null,
      "outputs": []
    },
    {
      "cell_type": "code",
      "metadata": {
        "id": "Ta_YqsDErXdh",
        "outputId": "b77b38fc-67a6-420a-fbda-9cda27f8839c",
        "colab": {
          "base_uri": "https://localhost:8080/"
        }
      },
      "source": [
        "# Question2:\n",
        "\n",
        "string = str(input())\n",
        "print(f'\"{string}\"'.upper())"
      ],
      "execution_count": 1,
      "outputs": [
        {
          "output_type": "stream",
          "text": [
            "lets upgrade\n",
            "\"LETS UPGRADE\"\n"
          ],
          "name": "stdout"
        }
      ]
    },
    {
      "cell_type": "code",
      "metadata": {
        "id": "fthI58i7rzYu",
        "outputId": "d6a0d372-0fbd-4dcd-ffe8-497509e100e2",
        "colab": {
          "base_uri": "https://localhost:8080/"
        }
      },
      "source": [
        "# Question3:\n",
        "\n",
        "costprice = int(input())\n",
        "sellingprice = int(input())\n",
        "if (costprice<sellingprice):\n",
        "  print(\"Profit\")\n",
        "elif (costprice>sellingprice):\n",
        "  print(\"Loss\")\n",
        "else:\n",
        "  print(\"Neither\")"
      ],
      "execution_count": 2,
      "outputs": [
        {
          "output_type": "stream",
          "text": [
            "20\n",
            "30\n",
            "Profit\n"
          ],
          "name": "stdout"
        }
      ]
    },
    {
      "cell_type": "code",
      "metadata": {
        "id": "a52_yzWhst86",
        "outputId": "793d0b0b-7340-475a-86d1-f4044aa54562",
        "colab": {
          "base_uri": "https://localhost:8080/"
        }
      },
      "source": [
        "costprice = int(input())\n",
        "sellingprice = int(input())\n",
        "if (costprice<sellingprice):\n",
        "  print(\"Profit\")\n",
        "elif (costprice>sellingprice):\n",
        "  print(\"Loss\")\n",
        "else:\n",
        "  print(\"Neither\")"
      ],
      "execution_count": 3,
      "outputs": [
        {
          "output_type": "stream",
          "text": [
            "20\n",
            "10\n",
            "Loss\n"
          ],
          "name": "stdout"
        }
      ]
    },
    {
      "cell_type": "code",
      "metadata": {
        "id": "PLdO7Xtrs24b",
        "outputId": "cca1cffe-5b3b-44c4-ff4c-d5b6fbce45a3",
        "colab": {
          "base_uri": "https://localhost:8080/"
        }
      },
      "source": [
        "costprice = int(input())\n",
        "sellingprice = int(input())\n",
        "if (costprice<sellingprice):\n",
        "  print(\"Profit\")\n",
        "elif (costprice>sellingprice):\n",
        "  print(\"Loss\")\n",
        "else:\n",
        "  print(\"Neither\")"
      ],
      "execution_count": 6,
      "outputs": [
        {
          "output_type": "stream",
          "text": [
            "20\n",
            "20\n",
            "Neither\n"
          ],
          "name": "stdout"
        }
      ]
    },
    {
      "cell_type": "code",
      "metadata": {
        "id": "8-Pvn54VtBgx",
        "outputId": "5b1cedd2-f7e5-44f4-87ea-d6f417414294",
        "colab": {
          "base_uri": "https://localhost:8080/"
        }
      },
      "source": [
        "costprice = int(input())\n",
        "sellingprice = int(input())\n",
        "if (costprice<sellingprice):\n",
        "  print(\"Profit\")\n",
        "elif (costprice>sellingprice):\n",
        "  print(\"Loss\")\n",
        "else:\n",
        "  print(\"Neither\")"
      ],
      "execution_count": 7,
      "outputs": [
        {
          "output_type": "stream",
          "text": [
            "19\n",
            "19\n",
            "Neither\n"
          ],
          "name": "stdout"
        }
      ]
    },
    {
      "cell_type": "code",
      "metadata": {
        "id": "rgng4y7MtFyf",
        "outputId": "e525edfb-b094-4156-d387-6d232dcb9096",
        "colab": {
          "base_uri": "https://localhost:8080/"
        }
      },
      "source": [
        "costprice = int(input())\n",
        "sellingprice = int(input())\n",
        "if (costprice<sellingprice):\n",
        "  print(\"Profit\")\n",
        "elif (costprice>sellingprice):\n",
        "  print(\"Loss\")\n",
        "else:\n",
        "  print(\"Neither\")"
      ],
      "execution_count": 9,
      "outputs": [
        {
          "output_type": "stream",
          "text": [
            "23\n",
            "7\n",
            "Loss\n"
          ],
          "name": "stdout"
        }
      ]
    },
    {
      "cell_type": "code",
      "metadata": {
        "id": "y2MG26u2tXIY",
        "outputId": "6c658c13-b6f7-412e-ef1b-c8ba2390dda8",
        "colab": {
          "base_uri": "https://localhost:8080/"
        }
      },
      "source": [
        "costprice = int(input())\n",
        "sellingprice = int(input())\n",
        "if (costprice<sellingprice):\n",
        "  print(\"Profit\")\n",
        "elif (costprice>sellingprice):\n",
        "  print(\"Loss\")\n",
        "else:\n",
        "  print(\"Neither\")"
      ],
      "execution_count": 10,
      "outputs": [
        {
          "output_type": "stream",
          "text": [
            "19\n",
            "95\n",
            "Profit\n"
          ],
          "name": "stdout"
        }
      ]
    },
    {
      "cell_type": "code",
      "metadata": {
        "id": "bkwzrnhRtdLK",
        "outputId": "ab66fe1f-ffed-4322-9697-6bd62573d350",
        "colab": {
          "base_uri": "https://localhost:8080/"
        }
      },
      "source": [
        "# Question4:\n",
        "\n",
        "rupee = int(input())\n",
        "euro = rupee*80\n",
        "print(euro)"
      ],
      "execution_count": 11,
      "outputs": [
        {
          "output_type": "stream",
          "text": [
            "20\n",
            "1600\n"
          ],
          "name": "stdout"
        }
      ]
    },
    {
      "cell_type": "code",
      "metadata": {
        "id": "GdP7etuttyah",
        "outputId": "9fcd9cc5-bdef-4c44-9ee1-78ecc5fc0b16",
        "colab": {
          "base_uri": "https://localhost:8080/"
        }
      },
      "source": [
        "rupee = int(input())\n",
        "euro = rupee*80\n",
        "print(euro)"
      ],
      "execution_count": 12,
      "outputs": [
        {
          "output_type": "stream",
          "text": [
            "50\n",
            "4000\n"
          ],
          "name": "stdout"
        }
      ]
    },
    {
      "cell_type": "code",
      "metadata": {
        "id": "tqdYgkXjt2j9",
        "outputId": "bda518a1-5101-4488-f7f4-d4132d7f4451",
        "colab": {
          "base_uri": "https://localhost:8080/"
        }
      },
      "source": [
        "rupee = int(input())\n",
        "euro = rupee*80\n",
        "print(euro)"
      ],
      "execution_count": 13,
      "outputs": [
        {
          "output_type": "stream",
          "text": [
            "72\n",
            "5760\n"
          ],
          "name": "stdout"
        }
      ]
    },
    {
      "cell_type": "code",
      "metadata": {
        "id": "alnyDYF-t6aL",
        "outputId": "bbca3cbd-21f6-4f84-e2fa-770ee2b64e72",
        "colab": {
          "base_uri": "https://localhost:8080/"
        }
      },
      "source": [
        "rupee = int(input())\n",
        "euro = rupee*80\n",
        "print(euro)"
      ],
      "execution_count": 14,
      "outputs": [
        {
          "output_type": "stream",
          "text": [
            "7\n",
            "560\n"
          ],
          "name": "stdout"
        }
      ]
    },
    {
      "cell_type": "code",
      "metadata": {
        "id": "5TIPaGZ0t-Wb",
        "outputId": "4297f5e3-41a7-4e89-8461-2cd35e9e73a3",
        "colab": {
          "base_uri": "https://localhost:8080/"
        }
      },
      "source": [
        "rupee = int(input())\n",
        "euro = rupee*80\n",
        "print(euro)"
      ],
      "execution_count": 15,
      "outputs": [
        {
          "output_type": "stream",
          "text": [
            "35\n",
            "2800\n"
          ],
          "name": "stdout"
        }
      ]
    },
    {
      "cell_type": "code",
      "metadata": {
        "id": "mHUhbojEuDQ8",
        "outputId": "5660b4e6-6462-47a6-bc58-555131090523",
        "colab": {
          "base_uri": "https://localhost:8080/"
        }
      },
      "source": [
        "rupee = int(input())\n",
        "euro = rupee*80\n",
        "print(euro)"
      ],
      "execution_count": 16,
      "outputs": [
        {
          "output_type": "stream",
          "text": [
            "23\n",
            "1840\n"
          ],
          "name": "stdout"
        }
      ]
    },
    {
      "cell_type": "code",
      "metadata": {
        "id": "vqTJPvFtuXpB",
        "outputId": "75374e22-3f14-48bf-9c98-01c63e115a4b",
        "colab": {
          "base_uri": "https://localhost:8080/"
        }
      },
      "source": [
        "rupee = int(input())\n",
        "euro = rupee*80\n",
        "print(euro)"
      ],
      "execution_count": 18,
      "outputs": [
        {
          "output_type": "stream",
          "text": [
            "95\n",
            "7600\n"
          ],
          "name": "stdout"
        }
      ]
    },
    {
      "cell_type": "code",
      "metadata": {
        "id": "JhN9e2A0ua0O",
        "outputId": "229d19f0-f13a-4795-ecd6-a7a0bdc9b18c",
        "colab": {
          "base_uri": "https://localhost:8080/"
        }
      },
      "source": [
        "rupee = int(input())\n",
        "euro = rupee*80\n",
        "print(euro)"
      ],
      "execution_count": 19,
      "outputs": [
        {
          "output_type": "stream",
          "text": [
            "18\n",
            "1440\n"
          ],
          "name": "stdout"
        }
      ]
    }
  ]
}